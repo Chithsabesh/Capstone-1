{
 "cells": [
  {
   "cell_type": "code",
   "execution_count": 1,
   "metadata": {},
   "outputs": [
    {
     "name": "stdout",
     "output_type": "stream",
     "text": [
      "Collecting fancyimpute\n",
      "Requirement already satisfied: numpy>=1.10 in c:\\users\\chithsabesh\\appdata\\local\\continuum\\anaconda3\\lib\\site-packages (from fancyimpute) (1.16.5)\n",
      "Requirement already satisfied: scipy in c:\\users\\chithsabesh\\appdata\\local\\continuum\\anaconda3\\lib\\site-packages (from fancyimpute) (1.3.1)\n",
      "Requirement already satisfied: keras>=2.0.0 in c:\\users\\chithsabesh\\appdata\\local\\continuum\\anaconda3\\lib\\site-packages (from fancyimpute) (2.3.0)\n",
      "Collecting cvxpy>=1.0.6 (from fancyimpute)\n",
      "  Using cached https://files.pythonhosted.org/packages/d9/ed/90e0a13ad7ac4e7cdc2aeaefed26cebb4922f205bb778199268863fa2fbe/cvxpy-1.0.25.tar.gz\n",
      "Requirement already satisfied: knnimpute in c:\\users\\chithsabesh\\appdata\\local\\continuum\\anaconda3\\lib\\site-packages (from fancyimpute) (0.1.0)\n",
      "Collecting tensorflow (from fancyimpute)\n",
      "  Using cached https://files.pythonhosted.org/packages/f7/08/25e47a53692c2e0dcd2211a493ddfe9007a5cd92e175d6dffa6169a0b392/tensorflow-1.14.0-cp37-cp37m-win_amd64.whl\n",
      "Requirement already satisfied: scikit-learn>=0.21.2 in c:\\users\\chithsabesh\\appdata\\local\\continuum\\anaconda3\\lib\\site-packages (from fancyimpute) (0.21.3)\n",
      "Requirement already satisfied: keras-preprocessing>=1.0.5 in c:\\users\\chithsabesh\\appdata\\local\\continuum\\anaconda3\\lib\\site-packages (from keras>=2.0.0->fancyimpute) (1.1.0)\n",
      "Requirement already satisfied: pyyaml in c:\\users\\chithsabesh\\appdata\\local\\continuum\\anaconda3\\lib\\site-packages (from keras>=2.0.0->fancyimpute) (5.1.2)\n",
      "Requirement already satisfied: keras-applications>=1.0.6 in c:\\users\\chithsabesh\\appdata\\local\\continuum\\anaconda3\\lib\\site-packages (from keras>=2.0.0->fancyimpute) (1.0.8)\n",
      "Requirement already satisfied: six>=1.9.0 in c:\\users\\chithsabesh\\appdata\\local\\continuum\\anaconda3\\lib\\site-packages (from keras>=2.0.0->fancyimpute) (1.12.0)\n",
      "Requirement already satisfied: h5py in c:\\users\\chithsabesh\\appdata\\local\\continuum\\anaconda3\\lib\\site-packages (from keras>=2.0.0->fancyimpute) (2.9.0)\n",
      "Requirement already satisfied: osqp>=0.4.1 in c:\\users\\chithsabesh\\appdata\\local\\continuum\\anaconda3\\lib\\site-packages (from cvxpy>=1.0.6->fancyimpute) (0.6.1)\n",
      "Collecting ecos>=2 (from cvxpy>=1.0.6->fancyimpute)\n",
      "  Using cached https://files.pythonhosted.org/packages/b9/3a/59aa93b573a22fda44402383aeddcc2a081c31e61080af3da9d11855c77a/ecos-2.0.7.post1.tar.gz\n",
      "Collecting scs>=1.1.3 (from cvxpy>=1.0.6->fancyimpute)\n",
      "  Using cached https://files.pythonhosted.org/packages/f2/6e/dbdd778c64c1920ae357a2013ea655d65a1f8b60f397d6e5549e4aafe8ec/scs-2.1.1-2.tar.gz\n",
      "Collecting multiprocess (from cvxpy>=1.0.6->fancyimpute)\n",
      "  Using cached https://files.pythonhosted.org/packages/8f/1c/60b2259979898b93693fbc7ffcbe57dc4339fc609d58e11bf19083aee155/multiprocess-0.70.8-cp37-cp37m-win_amd64.whl\n",
      "Collecting tensorboard<1.15.0,>=1.14.0 (from tensorflow->fancyimpute)\n",
      "  Using cached https://files.pythonhosted.org/packages/91/2d/2ed263449a078cd9c8a9ba50ebd50123adf1f8cfbea1492f9084169b89d9/tensorboard-1.14.0-py3-none-any.whl\n",
      "Requirement already satisfied: wheel>=0.26 in c:\\users\\chithsabesh\\appdata\\local\\continuum\\anaconda3\\lib\\site-packages (from tensorflow->fancyimpute) (0.33.4)\n",
      "Collecting astor>=0.6.0 (from tensorflow->fancyimpute)\n",
      "  Using cached https://files.pythonhosted.org/packages/d1/4f/950dfae467b384fc96bc6469de25d832534f6b4441033c39f914efd13418/astor-0.8.0-py2.py3-none-any.whl\n",
      "Collecting termcolor>=1.1.0 (from tensorflow->fancyimpute)\n",
      "Collecting google-pasta>=0.1.6 (from tensorflow->fancyimpute)\n",
      "  Using cached https://files.pythonhosted.org/packages/d0/33/376510eb8d6246f3c30545f416b2263eee461e40940c2a4413c711bdf62d/google_pasta-0.1.7-py3-none-any.whl\n",
      "Collecting tensorflow-estimator<1.15.0rc0,>=1.14.0rc0 (from tensorflow->fancyimpute)\n",
      "  Using cached https://files.pythonhosted.org/packages/3c/d5/21860a5b11caf0678fbc8319341b0ae21a07156911132e0e71bffed0510d/tensorflow_estimator-1.14.0-py2.py3-none-any.whl\n",
      "Collecting grpcio>=1.8.6 (from tensorflow->fancyimpute)\n",
      "  Using cached https://files.pythonhosted.org/packages/32/e7/478737fd426798caad32a2abb7cc63ddb4c12908d9e03471dd3c41992b05/grpcio-1.23.0-cp37-cp37m-win_amd64.whl\n",
      "Requirement already satisfied: wrapt>=1.11.1 in c:\\users\\chithsabesh\\appdata\\local\\continuum\\anaconda3\\lib\\site-packages (from tensorflow->fancyimpute) (1.11.2)\n",
      "Collecting absl-py>=0.7.0 (from tensorflow->fancyimpute)\n",
      "Collecting protobuf>=3.6.1 (from tensorflow->fancyimpute)\n",
      "  Using cached https://files.pythonhosted.org/packages/46/8b/5e77963dac4a944a0c6b198c004fac4c85d7adc54221c288fc6ca9078072/protobuf-3.9.1-cp37-cp37m-win_amd64.whl\n",
      "Collecting gast>=0.2.0 (from tensorflow->fancyimpute)\n",
      "Requirement already satisfied: joblib>=0.11 in c:\\users\\chithsabesh\\appdata\\local\\continuum\\anaconda3\\lib\\site-packages (from scikit-learn>=0.21.2->fancyimpute) (0.13.2)\n",
      "Requirement already satisfied: future in c:\\users\\chithsabesh\\appdata\\local\\continuum\\anaconda3\\lib\\site-packages (from osqp>=0.4.1->cvxpy>=1.0.6->fancyimpute) (0.17.1)\n",
      "Collecting dill>=0.3.0 (from multiprocess->cvxpy>=1.0.6->fancyimpute)\n",
      "Collecting markdown>=2.6.8 (from tensorboard<1.15.0,>=1.14.0->tensorflow->fancyimpute)\n",
      "  Using cached https://files.pythonhosted.org/packages/c0/4e/fd492e91abdc2d2fcb70ef453064d980688762079397f779758e055f6575/Markdown-3.1.1-py2.py3-none-any.whl\n",
      "Requirement already satisfied: setuptools>=41.0.0 in c:\\users\\chithsabesh\\appdata\\local\\continuum\\anaconda3\\lib\\site-packages (from tensorboard<1.15.0,>=1.14.0->tensorflow->fancyimpute) (41.0.1)\n",
      "Requirement already satisfied: werkzeug>=0.11.15 in c:\\users\\chithsabesh\\appdata\\local\\continuum\\anaconda3\\lib\\site-packages (from tensorboard<1.15.0,>=1.14.0->tensorflow->fancyimpute) (0.15.5)\n",
      "Building wheels for collected packages: cvxpy, ecos, scs\n",
      "  Building wheel for cvxpy (setup.py): started\n",
      "  Building wheel for cvxpy (setup.py): still running...\n",
      "  Building wheel for cvxpy (setup.py): finished with status 'done'\n",
      "  Created wheel for cvxpy: filename=cvxpy-1.0.25-cp37-cp37m-win_amd64.whl size=667193 sha256=e52e5cfc2cd9674f917679eb737ffe3cf40377ab6a978f75a877e9a7447c419b\n",
      "  Stored in directory: C:\\Users\\Chithsabesh\\AppData\\Local\\pip\\Cache\\wheels\\f1\\b0\\c3\\0d3e98435c5070047e033ead500eb4f93a87c4f3ab6ea6dc1e\n",
      "  Building wheel for ecos (setup.py): started\n",
      "  Building wheel for ecos (setup.py): finished with status 'done'\n",
      "  Created wheel for ecos: filename=ecos-2.0.7.post1-cp37-cp37m-win_amd64.whl size=72116 sha256=51d5ffa1741a4aaf5b7ab8c02518018b27b64ef7ba9896f79503cfae751d008c\n",
      "  Stored in directory: C:\\Users\\Chithsabesh\\AppData\\Local\\pip\\Cache\\wheels\\4b\\7d\\90\\39ff7dca0e5c06740afc993ab4209a1719fc1d616daf7af040\n",
      "  Building wheel for scs (setup.py): started\n",
      "  Building wheel for scs (setup.py): still running...\n",
      "  Building wheel for scs (setup.py): finished with status 'done'\n",
      "  Created wheel for scs: filename=scs-2.1.1.post2-cp37-cp37m-win_amd64.whl size=132074 sha256=5266ed03088e55e493631fa8b0538e82d05205d96f1b67d415411d55b33325e1\n",
      "  Stored in directory: C:\\Users\\Chithsabesh\\AppData\\Local\\pip\\Cache\\wheels\\68\\3f\\24\\e9c75d426f600634cdac68321184ba06fdc4ab2d189b5c4541\n",
      "Successfully built cvxpy ecos scs\n",
      "Installing collected packages: ecos, scs, dill, multiprocess, cvxpy, markdown, grpcio, absl-py, protobuf, tensorboard, astor, termcolor, google-pasta, tensorflow-estimator, gast, tensorflow, fancyimpute\n",
      "Successfully installed absl-py-0.8.0 astor-0.8.0 cvxpy-1.0.25 dill-0.3.0 ecos-2.0.7.post1 fancyimpute-0.5.3 gast-0.3.2 google-pasta-0.1.7 grpcio-1.23.0 markdown-3.1.1 multiprocess-0.70.8 protobuf-3.9.1 scs-2.1.1.post2 tensorboard-1.14.0 tensorflow-1.14.0 tensorflow-estimator-1.14.0 termcolor-1.1.0\n"
     ]
    }
   ],
   "source": [
    "!pip install fancyimpute"
   ]
  },
  {
   "cell_type": "code",
   "execution_count": 2,
   "metadata": {},
   "outputs": [
    {
     "name": "stderr",
     "output_type": "stream",
     "text": [
      "Using TensorFlow backend.\n"
     ]
    }
   ],
   "source": [
    "import fancyimpute"
   ]
  }
 ],
 "metadata": {
  "kernelspec": {
   "display_name": "Python 3",
   "language": "python",
   "name": "python3"
  },
  "language_info": {
   "codemirror_mode": {
    "name": "ipython",
    "version": 3
   },
   "file_extension": ".py",
   "mimetype": "text/x-python",
   "name": "python",
   "nbconvert_exporter": "python",
   "pygments_lexer": "ipython3",
   "version": "3.7.4"
  }
 },
 "nbformat": 4,
 "nbformat_minor": 2
}
